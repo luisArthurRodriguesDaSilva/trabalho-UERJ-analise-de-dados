{
  "nbformat": 4,
  "nbformat_minor": 0,
  "metadata": {
    "colab": {
      "provenance": [],
      "authorship_tag": "ABX9TyO74neyrTqrDd4/PsafpuIg",
      "include_colab_link": true
    },
    "kernelspec": {
      "name": "python3",
      "display_name": "Python 3"
    },
    "language_info": {
      "name": "python"
    }
  },
  "cells": [
    {
      "cell_type": "markdown",
      "metadata": {
        "id": "view-in-github",
        "colab_type": "text"
      },
      "source": [
        "<a href=\"https://colab.research.google.com/github/luisArthurRodriguesDaSilva/trabalho-UERJ-analise-de-dados/blob/main/linhas_de_GA.ipynb\" target=\"_parent\"><img src=\"https://colab.research.google.com/assets/colab-badge.svg\" alt=\"Open In Colab\"/></a>"
      ]
    },
    {
      "cell_type": "code",
      "execution_count": 2,
      "metadata": {
        "colab": {
          "base_uri": "https://localhost:8080/"
        },
        "id": "sW8ybAV9n1lM",
        "outputId": "dd9e9123-d64d-4c93-9ecf-31d6e263f388"
      },
      "outputs": [
        {
          "output_type": "stream",
          "name": "stdout",
          "text": [
            "L: (1.0, 3.0, 1.0) + t(1.0, 1.5, 1.0)\n"
          ]
        }
      ],
      "source": [
        "import numpy as np\n",
        "\n",
        "relations = lambda x ,y,z : np.array([(x+1),2*(y/3),z+1])\n",
        "\n",
        "def tryOneValue(rel,value):\n",
        "  return rel(value,value,value)\n",
        "\n",
        "def getPoint(rel,z=1,x='F',y='F',):\n",
        "  consts =[cx,cy,cz] = tryOneValue(rel,0)\n",
        "  angulars = [ax,ay,az] = tryOneValue(rel,1) - consts\n",
        "  piX = ((az*z)+cz-cx)/ax\n",
        "  piY = ((az*z)+cz-cy)/ay\n",
        "  return np.array([piX,piY,z])\n",
        "  \n",
        "def getDirector(rel):\n",
        "  [initialPoint,p2] = getPoint(rel,1),getPoint(rel,0)\n",
        "  director =initialPoint -p2\n",
        "  return list(map(lambda x : float(x),director))\n",
        "\n",
        "def getReta(rel):\n",
        "  [px,py,pv],[xv,yv,zv] = getPoint(rel),list(map(lambda x : float(x),getDirector(rel)))\n",
        "\n",
        "  print(f'L: {px,py,pv} + t{xv,yv,zv}')\n",
        "\n",
        "getReta(relations)"
      ]
    }
  ]
}